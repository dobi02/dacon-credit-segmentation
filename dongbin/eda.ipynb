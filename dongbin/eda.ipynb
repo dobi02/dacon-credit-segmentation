{
 "cells": [
  {
   "metadata": {
    "ExecuteTime": {
     "end_time": "2025-04-09T02:08:59.618050Z",
     "start_time": "2025-04-09T02:08:57.995423Z"
    }
   },
   "cell_type": "code",
   "source": [
    "import pandas as pd\n",
    "import numpy as np\n",
    "import gc\n",
    "\n",
    "from sklearn.feature_selection import mutual_info_classif\n",
    "from sklearn.preprocessing import LabelEncoder\n",
    "import pyarrow.dataset as ds\n",
    "from ydata_profiling import ProfileReport"
   ],
   "id": "69830cab57ab56d3",
   "outputs": [
    {
     "data": {
      "text/plain": [
       "<IPython.core.display.HTML object>"
      ],
      "text/html": [
       "\n",
       "            <div>\n",
       "                <ins><a href=\"https://ydata.ai/register\">Upgrade to ydata-sdk</a></ins>\n",
       "                <p>\n",
       "                    Improve your data and profiling with ydata-sdk, featuring data quality scoring, redundancy detection, outlier identification, text validation, and synthetic data generation.\n",
       "                </p>\n",
       "            </div>\n",
       "            "
      ]
     },
     "metadata": {},
     "output_type": "display_data"
    }
   ],
   "execution_count": 45
  },
  {
   "metadata": {
    "ExecuteTime": {
     "end_time": "2025-04-09T01:39:01.713358Z",
     "start_time": "2025-04-09T01:38:51.227147Z"
    }
   },
   "cell_type": "code",
   "source": [
    "#데이터 분할(폴더) 구분\n",
    "data_splits = [\"train\", \"test\"]\n",
    "\n",
    "# 각 데이터 유형별 폴더명, 파일 접미사, 변수 접두어 설정\n",
    "data_categories = {\n",
    "    \"회원정보\": {\"folder\": \"1.회원정보\", \"suffix\": \"회원정보\", \"var_prefix\": \"customer\"},\n",
    "    \"신용정보\": {\"folder\": \"2.신용정보\", \"suffix\": \"신용정보\", \"var_prefix\": \"credit\"},\n",
    "    \"승인매출정보\": {\"folder\": \"3.승인매출정보\", \"suffix\": \"승인매출정보\", \"var_prefix\": \"sales\"},\n",
    "    \"청구정보\": {\"folder\": \"4.청구입금정보\", \"suffix\": \"청구정보\", \"var_prefix\": \"billing\"},\n",
    "    \"잔액정보\": {\"folder\": \"5.잔액정보\", \"suffix\": \"잔액정보\", \"var_prefix\": \"balance\"},\n",
    "    \"채널정보\": {\"folder\": \"6.채널정보\", \"suffix\": \"채널정보\", \"var_prefix\": \"channel\"},\n",
    "    \"마케팅정보\": {\"folder\": \"7.마케팅정보\", \"suffix\": \"마케팅정보\", \"var_prefix\": \"marketing\"},\n",
    "    \"성과정보\": {\"folder\": \"8.성과정보\", \"suffix\": \"성과정보\", \"var_prefix\": \"performance\"}\n",
    "}\n",
    "\n",
    "# 2018년 7월부터 12월까지의 월 리스트\n",
    "months = ['07', '08', '09', '10', '11', '12']\n",
    "\n",
    "for split in data_splits:\n",
    "    for category, info in data_categories.items():\n",
    "        folder = info[\"folder\"]\n",
    "        suffix = info[\"suffix\"]\n",
    "        var_prefix = info[\"var_prefix\"]\n",
    "        \n",
    "        for month in months:\n",
    "            # 파일명 형식: 2018{month}_{split}_{suffix}.parquet\n",
    "            file_path = f\"C:/Users/dobi/Desktop/study/dacon-credit-segmentation/{split}/{folder}/2018{month}_{split}_{suffix}.parquet\"\n",
    "            # 변수명 형식: {var_prefix}_{split}_{month}\n",
    "            variable_name = f\"{var_prefix}_{split}_{month}\"\n",
    "            tmp = 0\n",
    "            if split == 'train':\n",
    "                dataset = ds.dataset(file_path, format=\"parquet\")\n",
    "                \n",
    "                scanner = dataset.head(1000)\n",
    "                tmp = scanner.to_pandas()\n",
    "            else:\n",
    "                tmp = pd.read_parquet(file_path)\n",
    "                \n",
    "            globals()[variable_name] = tmp\n",
    "            print(f\"{variable_name} is loaded from {file_path}\")\n",
    "\n",
    "gc.collect()"
   ],
   "id": "c4a51e9a09d75d02",
   "outputs": [
    {
     "name": "stdout",
     "output_type": "stream",
     "text": [
      "customer_train_07 is loaded from C:/Users/dobi/Desktop/study/dacon-credit-segmentation/train/1.회원정보/201807_train_회원정보.parquet\n",
      "customer_train_08 is loaded from C:/Users/dobi/Desktop/study/dacon-credit-segmentation/train/1.회원정보/201808_train_회원정보.parquet\n",
      "customer_train_09 is loaded from C:/Users/dobi/Desktop/study/dacon-credit-segmentation/train/1.회원정보/201809_train_회원정보.parquet\n",
      "customer_train_10 is loaded from C:/Users/dobi/Desktop/study/dacon-credit-segmentation/train/1.회원정보/201810_train_회원정보.parquet\n",
      "customer_train_11 is loaded from C:/Users/dobi/Desktop/study/dacon-credit-segmentation/train/1.회원정보/201811_train_회원정보.parquet\n",
      "customer_train_12 is loaded from C:/Users/dobi/Desktop/study/dacon-credit-segmentation/train/1.회원정보/201812_train_회원정보.parquet\n",
      "credit_train_07 is loaded from C:/Users/dobi/Desktop/study/dacon-credit-segmentation/train/2.신용정보/201807_train_신용정보.parquet\n",
      "credit_train_08 is loaded from C:/Users/dobi/Desktop/study/dacon-credit-segmentation/train/2.신용정보/201808_train_신용정보.parquet\n",
      "credit_train_09 is loaded from C:/Users/dobi/Desktop/study/dacon-credit-segmentation/train/2.신용정보/201809_train_신용정보.parquet\n",
      "credit_train_10 is loaded from C:/Users/dobi/Desktop/study/dacon-credit-segmentation/train/2.신용정보/201810_train_신용정보.parquet\n",
      "credit_train_11 is loaded from C:/Users/dobi/Desktop/study/dacon-credit-segmentation/train/2.신용정보/201811_train_신용정보.parquet\n",
      "credit_train_12 is loaded from C:/Users/dobi/Desktop/study/dacon-credit-segmentation/train/2.신용정보/201812_train_신용정보.parquet\n",
      "sales_train_07 is loaded from C:/Users/dobi/Desktop/study/dacon-credit-segmentation/train/3.승인매출정보/201807_train_승인매출정보.parquet\n",
      "sales_train_08 is loaded from C:/Users/dobi/Desktop/study/dacon-credit-segmentation/train/3.승인매출정보/201808_train_승인매출정보.parquet\n",
      "sales_train_09 is loaded from C:/Users/dobi/Desktop/study/dacon-credit-segmentation/train/3.승인매출정보/201809_train_승인매출정보.parquet\n",
      "sales_train_10 is loaded from C:/Users/dobi/Desktop/study/dacon-credit-segmentation/train/3.승인매출정보/201810_train_승인매출정보.parquet\n",
      "sales_train_11 is loaded from C:/Users/dobi/Desktop/study/dacon-credit-segmentation/train/3.승인매출정보/201811_train_승인매출정보.parquet\n",
      "sales_train_12 is loaded from C:/Users/dobi/Desktop/study/dacon-credit-segmentation/train/3.승인매출정보/201812_train_승인매출정보.parquet\n",
      "billing_train_07 is loaded from C:/Users/dobi/Desktop/study/dacon-credit-segmentation/train/4.청구입금정보/201807_train_청구정보.parquet\n",
      "billing_train_08 is loaded from C:/Users/dobi/Desktop/study/dacon-credit-segmentation/train/4.청구입금정보/201808_train_청구정보.parquet\n",
      "billing_train_09 is loaded from C:/Users/dobi/Desktop/study/dacon-credit-segmentation/train/4.청구입금정보/201809_train_청구정보.parquet\n",
      "billing_train_10 is loaded from C:/Users/dobi/Desktop/study/dacon-credit-segmentation/train/4.청구입금정보/201810_train_청구정보.parquet\n",
      "billing_train_11 is loaded from C:/Users/dobi/Desktop/study/dacon-credit-segmentation/train/4.청구입금정보/201811_train_청구정보.parquet\n",
      "billing_train_12 is loaded from C:/Users/dobi/Desktop/study/dacon-credit-segmentation/train/4.청구입금정보/201812_train_청구정보.parquet\n",
      "balance_train_07 is loaded from C:/Users/dobi/Desktop/study/dacon-credit-segmentation/train/5.잔액정보/201807_train_잔액정보.parquet\n",
      "balance_train_08 is loaded from C:/Users/dobi/Desktop/study/dacon-credit-segmentation/train/5.잔액정보/201808_train_잔액정보.parquet\n",
      "balance_train_09 is loaded from C:/Users/dobi/Desktop/study/dacon-credit-segmentation/train/5.잔액정보/201809_train_잔액정보.parquet\n",
      "balance_train_10 is loaded from C:/Users/dobi/Desktop/study/dacon-credit-segmentation/train/5.잔액정보/201810_train_잔액정보.parquet\n",
      "balance_train_11 is loaded from C:/Users/dobi/Desktop/study/dacon-credit-segmentation/train/5.잔액정보/201811_train_잔액정보.parquet\n",
      "balance_train_12 is loaded from C:/Users/dobi/Desktop/study/dacon-credit-segmentation/train/5.잔액정보/201812_train_잔액정보.parquet\n",
      "channel_train_07 is loaded from C:/Users/dobi/Desktop/study/dacon-credit-segmentation/train/6.채널정보/201807_train_채널정보.parquet\n",
      "channel_train_08 is loaded from C:/Users/dobi/Desktop/study/dacon-credit-segmentation/train/6.채널정보/201808_train_채널정보.parquet\n",
      "channel_train_09 is loaded from C:/Users/dobi/Desktop/study/dacon-credit-segmentation/train/6.채널정보/201809_train_채널정보.parquet\n",
      "channel_train_10 is loaded from C:/Users/dobi/Desktop/study/dacon-credit-segmentation/train/6.채널정보/201810_train_채널정보.parquet\n",
      "channel_train_11 is loaded from C:/Users/dobi/Desktop/study/dacon-credit-segmentation/train/6.채널정보/201811_train_채널정보.parquet\n",
      "channel_train_12 is loaded from C:/Users/dobi/Desktop/study/dacon-credit-segmentation/train/6.채널정보/201812_train_채널정보.parquet\n",
      "marketing_train_07 is loaded from C:/Users/dobi/Desktop/study/dacon-credit-segmentation/train/7.마케팅정보/201807_train_마케팅정보.parquet\n",
      "marketing_train_08 is loaded from C:/Users/dobi/Desktop/study/dacon-credit-segmentation/train/7.마케팅정보/201808_train_마케팅정보.parquet\n",
      "marketing_train_09 is loaded from C:/Users/dobi/Desktop/study/dacon-credit-segmentation/train/7.마케팅정보/201809_train_마케팅정보.parquet\n",
      "marketing_train_10 is loaded from C:/Users/dobi/Desktop/study/dacon-credit-segmentation/train/7.마케팅정보/201810_train_마케팅정보.parquet\n",
      "marketing_train_11 is loaded from C:/Users/dobi/Desktop/study/dacon-credit-segmentation/train/7.마케팅정보/201811_train_마케팅정보.parquet\n",
      "marketing_train_12 is loaded from C:/Users/dobi/Desktop/study/dacon-credit-segmentation/train/7.마케팅정보/201812_train_마케팅정보.parquet\n",
      "performance_train_07 is loaded from C:/Users/dobi/Desktop/study/dacon-credit-segmentation/train/8.성과정보/201807_train_성과정보.parquet\n",
      "performance_train_08 is loaded from C:/Users/dobi/Desktop/study/dacon-credit-segmentation/train/8.성과정보/201808_train_성과정보.parquet\n",
      "performance_train_09 is loaded from C:/Users/dobi/Desktop/study/dacon-credit-segmentation/train/8.성과정보/201809_train_성과정보.parquet\n",
      "performance_train_10 is loaded from C:/Users/dobi/Desktop/study/dacon-credit-segmentation/train/8.성과정보/201810_train_성과정보.parquet\n",
      "performance_train_11 is loaded from C:/Users/dobi/Desktop/study/dacon-credit-segmentation/train/8.성과정보/201811_train_성과정보.parquet\n",
      "performance_train_12 is loaded from C:/Users/dobi/Desktop/study/dacon-credit-segmentation/train/8.성과정보/201812_train_성과정보.parquet\n",
      "customer_test_07 is loaded from C:/Users/dobi/Desktop/study/dacon-credit-segmentation/test/1.회원정보/201807_test_회원정보.parquet\n",
      "customer_test_08 is loaded from C:/Users/dobi/Desktop/study/dacon-credit-segmentation/test/1.회원정보/201808_test_회원정보.parquet\n",
      "customer_test_09 is loaded from C:/Users/dobi/Desktop/study/dacon-credit-segmentation/test/1.회원정보/201809_test_회원정보.parquet\n",
      "customer_test_10 is loaded from C:/Users/dobi/Desktop/study/dacon-credit-segmentation/test/1.회원정보/201810_test_회원정보.parquet\n",
      "customer_test_11 is loaded from C:/Users/dobi/Desktop/study/dacon-credit-segmentation/test/1.회원정보/201811_test_회원정보.parquet\n",
      "customer_test_12 is loaded from C:/Users/dobi/Desktop/study/dacon-credit-segmentation/test/1.회원정보/201812_test_회원정보.parquet\n",
      "credit_test_07 is loaded from C:/Users/dobi/Desktop/study/dacon-credit-segmentation/test/2.신용정보/201807_test_신용정보.parquet\n",
      "credit_test_08 is loaded from C:/Users/dobi/Desktop/study/dacon-credit-segmentation/test/2.신용정보/201808_test_신용정보.parquet\n",
      "credit_test_09 is loaded from C:/Users/dobi/Desktop/study/dacon-credit-segmentation/test/2.신용정보/201809_test_신용정보.parquet\n",
      "credit_test_10 is loaded from C:/Users/dobi/Desktop/study/dacon-credit-segmentation/test/2.신용정보/201810_test_신용정보.parquet\n",
      "credit_test_11 is loaded from C:/Users/dobi/Desktop/study/dacon-credit-segmentation/test/2.신용정보/201811_test_신용정보.parquet\n",
      "credit_test_12 is loaded from C:/Users/dobi/Desktop/study/dacon-credit-segmentation/test/2.신용정보/201812_test_신용정보.parquet\n",
      "sales_test_07 is loaded from C:/Users/dobi/Desktop/study/dacon-credit-segmentation/test/3.승인매출정보/201807_test_승인매출정보.parquet\n",
      "sales_test_08 is loaded from C:/Users/dobi/Desktop/study/dacon-credit-segmentation/test/3.승인매출정보/201808_test_승인매출정보.parquet\n",
      "sales_test_09 is loaded from C:/Users/dobi/Desktop/study/dacon-credit-segmentation/test/3.승인매출정보/201809_test_승인매출정보.parquet\n",
      "sales_test_10 is loaded from C:/Users/dobi/Desktop/study/dacon-credit-segmentation/test/3.승인매출정보/201810_test_승인매출정보.parquet\n",
      "sales_test_11 is loaded from C:/Users/dobi/Desktop/study/dacon-credit-segmentation/test/3.승인매출정보/201811_test_승인매출정보.parquet\n",
      "sales_test_12 is loaded from C:/Users/dobi/Desktop/study/dacon-credit-segmentation/test/3.승인매출정보/201812_test_승인매출정보.parquet\n",
      "billing_test_07 is loaded from C:/Users/dobi/Desktop/study/dacon-credit-segmentation/test/4.청구입금정보/201807_test_청구정보.parquet\n",
      "billing_test_08 is loaded from C:/Users/dobi/Desktop/study/dacon-credit-segmentation/test/4.청구입금정보/201808_test_청구정보.parquet\n",
      "billing_test_09 is loaded from C:/Users/dobi/Desktop/study/dacon-credit-segmentation/test/4.청구입금정보/201809_test_청구정보.parquet\n",
      "billing_test_10 is loaded from C:/Users/dobi/Desktop/study/dacon-credit-segmentation/test/4.청구입금정보/201810_test_청구정보.parquet\n",
      "billing_test_11 is loaded from C:/Users/dobi/Desktop/study/dacon-credit-segmentation/test/4.청구입금정보/201811_test_청구정보.parquet\n",
      "billing_test_12 is loaded from C:/Users/dobi/Desktop/study/dacon-credit-segmentation/test/4.청구입금정보/201812_test_청구정보.parquet\n",
      "balance_test_07 is loaded from C:/Users/dobi/Desktop/study/dacon-credit-segmentation/test/5.잔액정보/201807_test_잔액정보.parquet\n",
      "balance_test_08 is loaded from C:/Users/dobi/Desktop/study/dacon-credit-segmentation/test/5.잔액정보/201808_test_잔액정보.parquet\n",
      "balance_test_09 is loaded from C:/Users/dobi/Desktop/study/dacon-credit-segmentation/test/5.잔액정보/201809_test_잔액정보.parquet\n",
      "balance_test_10 is loaded from C:/Users/dobi/Desktop/study/dacon-credit-segmentation/test/5.잔액정보/201810_test_잔액정보.parquet\n",
      "balance_test_11 is loaded from C:/Users/dobi/Desktop/study/dacon-credit-segmentation/test/5.잔액정보/201811_test_잔액정보.parquet\n",
      "balance_test_12 is loaded from C:/Users/dobi/Desktop/study/dacon-credit-segmentation/test/5.잔액정보/201812_test_잔액정보.parquet\n",
      "channel_test_07 is loaded from C:/Users/dobi/Desktop/study/dacon-credit-segmentation/test/6.채널정보/201807_test_채널정보.parquet\n",
      "channel_test_08 is loaded from C:/Users/dobi/Desktop/study/dacon-credit-segmentation/test/6.채널정보/201808_test_채널정보.parquet\n",
      "channel_test_09 is loaded from C:/Users/dobi/Desktop/study/dacon-credit-segmentation/test/6.채널정보/201809_test_채널정보.parquet\n",
      "channel_test_10 is loaded from C:/Users/dobi/Desktop/study/dacon-credit-segmentation/test/6.채널정보/201810_test_채널정보.parquet\n",
      "channel_test_11 is loaded from C:/Users/dobi/Desktop/study/dacon-credit-segmentation/test/6.채널정보/201811_test_채널정보.parquet\n",
      "channel_test_12 is loaded from C:/Users/dobi/Desktop/study/dacon-credit-segmentation/test/6.채널정보/201812_test_채널정보.parquet\n",
      "marketing_test_07 is loaded from C:/Users/dobi/Desktop/study/dacon-credit-segmentation/test/7.마케팅정보/201807_test_마케팅정보.parquet\n",
      "marketing_test_08 is loaded from C:/Users/dobi/Desktop/study/dacon-credit-segmentation/test/7.마케팅정보/201808_test_마케팅정보.parquet\n",
      "marketing_test_09 is loaded from C:/Users/dobi/Desktop/study/dacon-credit-segmentation/test/7.마케팅정보/201809_test_마케팅정보.parquet\n",
      "marketing_test_10 is loaded from C:/Users/dobi/Desktop/study/dacon-credit-segmentation/test/7.마케팅정보/201810_test_마케팅정보.parquet\n",
      "marketing_test_11 is loaded from C:/Users/dobi/Desktop/study/dacon-credit-segmentation/test/7.마케팅정보/201811_test_마케팅정보.parquet\n",
      "marketing_test_12 is loaded from C:/Users/dobi/Desktop/study/dacon-credit-segmentation/test/7.마케팅정보/201812_test_마케팅정보.parquet\n",
      "performance_test_07 is loaded from C:/Users/dobi/Desktop/study/dacon-credit-segmentation/test/8.성과정보/201807_test_성과정보.parquet\n",
      "performance_test_08 is loaded from C:/Users/dobi/Desktop/study/dacon-credit-segmentation/test/8.성과정보/201808_test_성과정보.parquet\n",
      "performance_test_09 is loaded from C:/Users/dobi/Desktop/study/dacon-credit-segmentation/test/8.성과정보/201809_test_성과정보.parquet\n",
      "performance_test_10 is loaded from C:/Users/dobi/Desktop/study/dacon-credit-segmentation/test/8.성과정보/201810_test_성과정보.parquet\n",
      "performance_test_11 is loaded from C:/Users/dobi/Desktop/study/dacon-credit-segmentation/test/8.성과정보/201811_test_성과정보.parquet\n",
      "performance_test_12 is loaded from C:/Users/dobi/Desktop/study/dacon-credit-segmentation/test/8.성과정보/201812_test_성과정보.parquet\n"
     ]
    },
    {
     "data": {
      "text/plain": [
       "1748"
      ]
     },
     "execution_count": 16,
     "metadata": {},
     "output_type": "execute_result"
    }
   ],
   "execution_count": 16
  },
  {
   "metadata": {
    "ExecuteTime": {
     "end_time": "2025-04-09T01:39:01.717440Z",
     "start_time": "2025-04-09T01:39:01.713358Z"
    }
   },
   "cell_type": "code",
   "source": [
    "# 데이터 유형별 설정 \n",
    "info_categories = [\"customer\", \"credit\", \"sales\", \"billing\", \"balance\", \"channel\", \"marketing\", \"performance\"]\n",
    "\n",
    "# 월 설정\n",
    "months = ['07', '08', '09', '10', '11', '12']"
   ],
   "id": "8d6f401ba486f707",
   "outputs": [],
   "execution_count": 17
  },
  {
   "metadata": {
    "ExecuteTime": {
     "end_time": "2025-04-09T01:39:02.138802Z",
     "start_time": "2025-04-09T01:39:01.717440Z"
    }
   },
   "cell_type": "code",
   "source": [
    "#### Train ####\n",
    "\n",
    "# 각 유형별로 월별 데이터를 합쳐서 새로운 변수에 저장\n",
    "train_dfs = {}\n",
    "\n",
    "for prefix in info_categories:\n",
    "    # globals()에서 동적 변수명으로 데이터프레임들을 가져와 리스트에 저장\n",
    "    df_list = [globals()[f\"{prefix}_train_{month}\"] for month in months]\n",
    "    train_dfs[f\"{prefix}_train_df\"] = pd.concat(df_list, axis=0)\n",
    "    gc.collect()\n",
    "    print(f\"{prefix}_train_df is created with shape: {train_dfs[f'{prefix}_train_df'].shape}\")\n",
    "\n",
    "\n",
    "customer_train_df = train_dfs[\"customer_train_df\"]\n",
    "credit_train_df   = train_dfs[\"credit_train_df\"]\n",
    "sales_train_df    = train_dfs[\"sales_train_df\"]\n",
    "billing_train_df  = train_dfs[\"billing_train_df\"]\n",
    "balance_train_df  = train_dfs[\"balance_train_df\"]\n",
    "channel_train_df  = train_dfs[\"channel_train_df\"]\n",
    "marketing_train_df= train_dfs[\"marketing_train_df\"]\n",
    "performance_train_df = train_dfs[\"performance_train_df\"]\n",
    "\n",
    "gc.collect()"
   ],
   "id": "ddef76507cd5e544",
   "outputs": [
    {
     "name": "stdout",
     "output_type": "stream",
     "text": [
      "customer_train_df is created with shape: (6000, 78)\n",
      "credit_train_df is created with shape: (6000, 42)\n",
      "sales_train_df is created with shape: (6000, 406)\n",
      "billing_train_df is created with shape: (6000, 46)\n",
      "balance_train_df is created with shape: (6000, 82)\n",
      "channel_train_df is created with shape: (6000, 105)\n",
      "marketing_train_df is created with shape: (6000, 64)\n",
      "performance_train_df is created with shape: (6000, 49)\n"
     ]
    },
    {
     "data": {
      "text/plain": [
       "0"
      ]
     },
     "execution_count": 18,
     "metadata": {},
     "output_type": "execute_result"
    }
   ],
   "execution_count": 18
  },
  {
   "metadata": {
    "ExecuteTime": {
     "end_time": "2025-04-09T01:39:03.745326Z",
     "start_time": "2025-04-09T01:39:02.138802Z"
    }
   },
   "cell_type": "code",
   "source": [
    "#### Test ####\n",
    "\n",
    "# test 데이터에 대해 train과 동일한 방법 적용\n",
    "test_dfs = {}\n",
    "\n",
    "for prefix in info_categories:\n",
    "    df_list = [globals()[f\"{prefix}_test_{month}\"] for month in months]\n",
    "    test_dfs[f\"{prefix}_test_df\"] = pd.concat(df_list, axis=0)\n",
    "    gc.collect()\n",
    "    print(f\"{prefix}_test_df is created with shape: {test_dfs[f'{prefix}_test_df'].shape}\")\n",
    "\n",
    "\n",
    "customer_test_df = test_dfs[\"customer_test_df\"]\n",
    "credit_test_df   = test_dfs[\"credit_test_df\"]\n",
    "sales_test_df    = test_dfs[\"sales_test_df\"]\n",
    "billing_test_df  = test_dfs[\"billing_test_df\"]\n",
    "balance_test_df  = test_dfs[\"balance_test_df\"]\n",
    "channel_test_df  = test_dfs[\"channel_test_df\"]\n",
    "marketing_test_df= test_dfs[\"marketing_test_df\"]\n",
    "performance_test_df = test_dfs[\"performance_test_df\"]\n",
    "\n",
    "gc.collect()"
   ],
   "id": "c43c65580abbab3f",
   "outputs": [
    {
     "name": "stdout",
     "output_type": "stream",
     "text": [
      "customer_test_df is created with shape: (600000, 77)\n",
      "credit_test_df is created with shape: (600000, 42)\n",
      "sales_test_df is created with shape: (600000, 406)\n",
      "billing_test_df is created with shape: (600000, 46)\n",
      "balance_test_df is created with shape: (600000, 82)\n",
      "channel_test_df is created with shape: (600000, 105)\n",
      "marketing_test_df is created with shape: (600000, 64)\n",
      "performance_test_df is created with shape: (600000, 49)\n"
     ]
    },
    {
     "data": {
      "text/plain": [
       "0"
      ]
     },
     "execution_count": 19,
     "metadata": {},
     "output_type": "execute_result"
    }
   ],
   "execution_count": 19
  },
  {
   "metadata": {
    "ExecuteTime": {
     "end_time": "2025-04-09T01:39:04.208422Z",
     "start_time": "2025-04-09T01:39:03.745326Z"
    }
   },
   "cell_type": "code",
   "source": [
    "#### Train ####\n",
    "\n",
    "train_df = customer_train_df.merge(credit_train_df, on=['기준년월', 'ID'], how='left')\n",
    "print(\"Step1 저장 완료: train_step1, shape:\", train_df.shape)\n",
    "del customer_train_df, credit_train_df\n",
    "gc.collect()\n",
    "\n",
    "# 이후 merge할 데이터프레임 이름과 단계 정보를 리스트에 저장\n",
    "merge_list = [\n",
    "    (\"sales_train_df\",    \"Step2\"),\n",
    "    (\"billing_train_df\",  \"Step3\"),\n",
    "    (\"balance_train_df\",  \"Step4\"),\n",
    "    (\"channel_train_df\",  \"Step5\"),\n",
    "    (\"marketing_train_df\",\"Step6\"),\n",
    "    (\"performance_train_df\", \"최종\")\n",
    "]\n",
    "\n",
    "# 나머지 단계 merge\n",
    "for df_name, step in merge_list:\n",
    "    # globals()로 동적 변수 접근하여 merge 수행\n",
    "    train_df = train_df.merge(globals()[df_name], on=['기준년월', 'ID'], how='left')\n",
    "    print(f\"{step} 저장 완료: train_{step}, shape:\", train_df.shape)\n",
    "    # 사용한 변수는 메모리 해제를 위해 삭제\n",
    "    del globals()[df_name]\n",
    "    gc.collect()"
   ],
   "id": "2da8317726bd1db5",
   "outputs": [
    {
     "name": "stdout",
     "output_type": "stream",
     "text": [
      "Step1 저장 완료: train_step1, shape: (6000, 118)\n",
      "Step2 저장 완료: train_Step2, shape: (6000, 522)\n",
      "Step3 저장 완료: train_Step3, shape: (6000, 566)\n",
      "Step4 저장 완료: train_Step4, shape: (6000, 646)\n",
      "Step5 저장 완료: train_Step5, shape: (6000, 749)\n",
      "Step6 저장 완료: train_Step6, shape: (6000, 811)\n",
      "최종 저장 완료: train_최종, shape: (6000, 858)\n"
     ]
    }
   ],
   "execution_count": 20
  },
  {
   "metadata": {
    "ExecuteTime": {
     "end_time": "2025-04-09T01:39:24.145046Z",
     "start_time": "2025-04-09T01:39:04.208422Z"
    }
   },
   "cell_type": "code",
   "source": [
    "#### Test ####\n",
    "\n",
    "test_df = customer_test_df.merge(credit_test_df, on=['기준년월', 'ID'], how='left')\n",
    "print(\"Step1 저장 완료: test_step1, shape:\", test_df.shape)\n",
    "del customer_test_df, credit_test_df\n",
    "gc.collect()\n",
    "\n",
    "# 이후 merge할 데이터프레임 이름과 단계 정보를 리스트에 저장\n",
    "merge_list = [\n",
    "    (\"sales_test_df\", \"Step2\"),\n",
    "    (\"billing_test_df\", \"Step3\"),\n",
    "    (\"balance_test_df\", \"Step4\"),\n",
    "    (\"channel_test_df\", \"Step5\"),\n",
    "    (\"marketing_test_df\", \"Step6\"),\n",
    "    (\"performance_test_df\", \"최종\")\n",
    "]\n",
    "\n",
    "# 나머지 단계 merge\n",
    "for df_name, step in merge_list:\n",
    "    # globals()로 동적 변수 접근하여 merge 수행\n",
    "    test_df = test_df.merge(globals()[df_name], on=['기준년월', 'ID'], how='left')\n",
    "    print(f\"{step} 저장 완료: test_{step}, shape:\", test_df.shape)\n",
    "    # 사용한 변수는 메모리 해제를 위해 삭제\n",
    "    del globals()[df_name]\n",
    "    gc.collect()"
   ],
   "id": "93dc12585456ce2a",
   "outputs": [
    {
     "name": "stdout",
     "output_type": "stream",
     "text": [
      "Step1 저장 완료: test_step1, shape: (600000, 117)\n",
      "Step2 저장 완료: test_Step2, shape: (600000, 521)\n",
      "Step3 저장 완료: test_Step3, shape: (600000, 565)\n",
      "Step4 저장 완료: test_Step4, shape: (600000, 645)\n",
      "Step5 저장 완료: test_Step5, shape: (600000, 748)\n",
      "Step6 저장 완료: test_Step6, shape: (600000, 810)\n",
      "최종 저장 완료: test_최종, shape: (600000, 857)\n"
     ]
    }
   ],
   "execution_count": 21
  },
  {
   "metadata": {
    "ExecuteTime": {
     "end_time": "2025-04-09T01:39:24.185023Z",
     "start_time": "2025-04-09T01:39:24.146594Z"
    }
   },
   "cell_type": "code",
   "source": [
    "feature_cols = [col for col in train_df.columns if col not in [\"ID\", \"Segment\"]]\n",
    "\n",
    "X = train_df[feature_cols].copy()\n",
    "y = train_df[\"Segment\"].copy()\n",
    "\n",
    "# 타깃 라벨 인코딩\n",
    "le_target = LabelEncoder()\n",
    "y_encoded = le_target.fit_transform(y)"
   ],
   "id": "70fcd8832883985",
   "outputs": [],
   "execution_count": 22
  },
  {
   "metadata": {
    "ExecuteTime": {
     "end_time": "2025-04-09T01:39:24.195071Z",
     "start_time": "2025-04-09T01:39:24.187062Z"
    }
   },
   "cell_type": "code",
   "source": "print(X.dtypes.value_counts())",
   "id": "9b3ff3390f3d978c",
   "outputs": [
    {
     "name": "stdout",
     "output_type": "stream",
     "text": [
      "int64      747\n",
      "float64     61\n",
      "object      48\n",
      "Name: count, dtype: int64\n"
     ]
    }
   ],
   "execution_count": 23
  },
  {
   "metadata": {
    "ExecuteTime": {
     "end_time": "2025-04-09T01:39:28.986887Z",
     "start_time": "2025-04-09T01:39:24.195071Z"
    }
   },
   "cell_type": "code",
   "source": [
    "categorical_features = X.select_dtypes(include=['object']).columns.tolist()\n",
    "\n",
    "X_test = test_df.copy()\n",
    "\n",
    "encoders = {}  # 각 컬럼별 encoder 저장\n",
    "\n",
    "for col in categorical_features:\n",
    "    le_train = LabelEncoder()\n",
    "    X[col] = le_train.fit_transform(X[col])\n",
    "    encoders[col] = le_train\n",
    "    unseen_labels_val = set(X_test[col]) - set(le_train.classes_)\n",
    "    if unseen_labels_val:\n",
    "        le_train.classes_ = np.append(le_train.classes_, list(unseen_labels_val))\n",
    "    X_test[col] = le_train.transform(X_test[col])"
   ],
   "id": "34ebfcb3ba879cbc",
   "outputs": [],
   "execution_count": 24
  },
  {
   "metadata": {
    "ExecuteTime": {
     "end_time": "2025-04-09T01:39:29.038586Z",
     "start_time": "2025-04-09T01:39:28.986887Z"
    }
   },
   "cell_type": "code",
   "source": "gc.collect()",
   "id": "76536a29a04f9f7a",
   "outputs": [
    {
     "data": {
      "text/plain": [
       "0"
      ]
     },
     "execution_count": 25,
     "metadata": {},
     "output_type": "execute_result"
    }
   ],
   "execution_count": 25
  },
  {
   "metadata": {},
   "cell_type": "markdown",
   "source": "결측치 비율 탐사",
   "id": "116b61884459ddda"
  },
  {
   "metadata": {
    "ExecuteTime": {
     "end_time": "2025-04-09T01:39:29.056441Z",
     "start_time": "2025-04-09T01:39:29.038586Z"
    }
   },
   "cell_type": "code",
   "source": [
    "missing_df = X.isnull().sum().to_frame(name='missing_count')\n",
    "missing_df['missing_ratio (%)'] = (missing_df['missing_count'] / len(X)) * 100\n",
    "missing_df = missing_df[missing_df['missing_count'] > 0]\n",
    "print(missing_df)"
   ],
   "id": "4f3c29ff36f25861",
   "outputs": [
    {
     "name": "stdout",
     "output_type": "stream",
     "text": [
      "                missing_count  missing_ratio (%)\n",
      "최종유효년월_신용_이용가능            454           7.566667\n",
      "최종유효년월_신용_이용             1236          20.600000\n",
      "최종카드발급일자                  101           1.683333\n",
      "RV신청일자                   4816          80.266667\n",
      "최종카드론_금융상환방식코드           4896          81.600000\n",
      "최종카드론_대출일자               4968          82.800000\n",
      "연체일자_B0M                 5995          99.916667\n",
      "혜택수혜율_R3M                1147          19.116667\n",
      "혜택수혜율_B0M                1300          21.666667\n"
     ]
    }
   ],
   "execution_count": 26
  },
  {
   "metadata": {
    "ExecuteTime": {
     "end_time": "2025-04-09T01:39:29.061181Z",
     "start_time": "2025-04-09T01:39:29.056441Z"
    }
   },
   "cell_type": "code",
   "source": "print(X.dtypes.value_counts())",
   "id": "e17806092b41fa4b",
   "outputs": [
    {
     "name": "stdout",
     "output_type": "stream",
     "text": [
      "int64      747\n",
      "float64     61\n",
      "int32       48\n",
      "Name: count, dtype: int64\n"
     ]
    }
   ],
   "execution_count": 27
  },
  {
   "metadata": {},
   "cell_type": "markdown",
   "source": "Mutual Information 계산",
   "id": "76fd04c4e8ccba1a"
  },
  {
   "metadata": {
    "ExecuteTime": {
     "end_time": "2025-04-09T01:39:41.201004Z",
     "start_time": "2025-04-09T01:39:29.061181Z"
    }
   },
   "cell_type": "code",
   "source": [
    "# 결측치가 50% 이상인 컬럼만 제거\n",
    "X_clean = X.dropna(axis=1)\n",
    "\n",
    "\n",
    "\n",
    "# Mutual Information 계산\n",
    "X_num = X_clean.select_dtypes(include=['number'])\n",
    "mi_scores = mutual_info_classif(X_num, y_encoded, random_state=42)\n",
    "\n",
    "# 컬럼 이름과 MI 값을 묶어서 리스트로 만들고, MI 기준으로 내림차순 정렬\n",
    "mi_result = sorted(zip(X_num.columns, mi_scores), key=lambda x: x[1], reverse=True)\n",
    "# mi_result → DataFrame으로 변환\n",
    "mi_df = pd.DataFrame(mi_result, columns=['feature', 'mutual_info'])\n",
    "\n",
    "# 범주 구분 함수 정의\n",
    "def categorize_mi(mi):\n",
    "    if mi >= 0.1:\n",
    "        return 'high'\n",
    "    elif 0.01 < mi < 0.1:\n",
    "        return 'middle'\n",
    "    else:\n",
    "        return 'low'\n",
    "\n",
    "# 범주 컬럼 추가\n",
    "mi_df['category'] = mi_df['mutual_info'].apply(categorize_mi)\n",
    "\n",
    "# 결과 출력\n",
    "print(mi_df['category'].value_counts())"
   ],
   "id": "85631e24febd44c8",
   "outputs": [
    {
     "name": "stdout",
     "output_type": "stream",
     "text": [
      "category\n",
      "low       435\n",
      "middle    368\n",
      "high       44\n",
      "Name: count, dtype: int64\n"
     ]
    }
   ],
   "execution_count": 28
  },
  {
   "metadata": {},
   "cell_type": "markdown",
   "source": "모든 값이 동일한 변수 있는지 확인 후 constant_columns에 담기",
   "id": "6a06e6d24ff61d4d"
  },
  {
   "metadata": {
    "ExecuteTime": {
     "end_time": "2025-04-09T01:47:29.526962Z",
     "start_time": "2025-04-09T01:47:29.463648Z"
    }
   },
   "cell_type": "code",
   "source": [
    "constant_columns = X.columns[X.nunique(dropna=False) == 1]\n",
    "print(len(constant_columns))"
   ],
   "id": "b53aa84da5bda20f",
   "outputs": [
    {
     "name": "stdout",
     "output_type": "stream",
     "text": [
      "152\n"
     ]
    }
   ],
   "execution_count": 32
  },
  {
   "metadata": {},
   "cell_type": "markdown",
   "source": "보고서 생성 (uniform 변수 제외)",
   "id": "540c4ba0501301c2"
  },
  {
   "metadata": {
    "ExecuteTime": {
     "end_time": "2025-04-09T02:31:07.665017Z",
     "start_time": "2025-04-09T02:29:08.021082Z"
    }
   },
   "cell_type": "code",
   "source": [
    "tmp_X = X.drop(columns=constant_columns)\n",
    "\"\"\"\n",
    "profile = ProfileReport(\n",
    "    tmp_X,\n",
    "    minimal=True\n",
    ")\n",
    "profile.to_file('profile.html')\n",
    "\"\"\""
   ],
   "id": "db9bbfe458e3cae2",
   "outputs": [
    {
     "data": {
      "text/plain": [
       "Summarize dataset:   0%|          | 0/5 [00:00<?, ?it/s]"
      ],
      "application/vnd.jupyter.widget-view+json": {
       "version_major": 2,
       "version_minor": 0,
       "model_id": "7100fbc5601d45f0a405fe0e45d6272d"
      }
     },
     "metadata": {},
     "output_type": "display_data"
    },
    {
     "name": "stderr",
     "output_type": "stream",
     "text": [
      "\n",
      "  0%|          | 0/704 [00:00<?, ?it/s]\u001B[A\n",
      " 13%|█▎        | 95/704 [00:00<00:01, 475.97it/s]\u001B[A\n",
      " 20%|██        | 143/704 [00:00<00:01, 298.23it/s]\u001B[A\n",
      " 25%|██▍       | 175/704 [00:00<00:02, 226.26it/s]\u001B[A\n",
      " 31%|███       | 215/704 [00:00<00:02, 244.18it/s]\u001B[A\n",
      " 34%|███▍      | 241/704 [00:00<00:01, 236.68it/s]\u001B[A\n",
      " 38%|███▊      | 266/704 [00:01<00:02, 192.18it/s]\u001B[A\n",
      " 43%|████▎     | 300/704 [00:01<00:01, 206.26it/s]\u001B[A\n",
      " 46%|████▌     | 322/704 [00:01<00:01, 199.10it/s]\u001B[A\n",
      " 49%|████▉     | 348/704 [00:01<00:01, 211.21it/s]\u001B[A\n",
      " 53%|█████▎    | 370/704 [00:01<00:01, 189.90it/s]\u001B[A\n",
      " 56%|█████▋    | 396/704 [00:01<00:01, 189.47it/s]\u001B[A\n",
      " 60%|█████▉    | 420/704 [00:01<00:01, 186.83it/s]\u001B[A\n",
      " 62%|██████▏   | 439/704 [00:02<00:01, 180.54it/s]\u001B[A\n",
      " 66%|██████▌   | 464/704 [00:02<00:01, 162.78it/s]\u001B[A\n",
      " 71%|███████   | 499/704 [00:02<00:01, 178.24it/s]\u001B[A\n",
      " 76%|███████▌  | 533/704 [00:02<00:00, 209.43it/s]\u001B[A\n",
      " 79%|███████▉  | 555/704 [00:02<00:00, 172.93it/s]\u001B[A\n",
      " 82%|████████▏ | 580/704 [00:02<00:00, 176.36it/s]\u001B[A\n",
      " 85%|████████▌ | 599/704 [00:03<00:00, 166.95it/s]\u001B[A\n",
      " 88%|████████▊ | 617/704 [00:03<00:00, 160.05it/s]\u001B[A\n",
      " 91%|█████████ | 638/704 [00:03<00:00, 166.37it/s]\u001B[A\n",
      " 93%|█████████▎| 656/704 [00:03<00:00, 164.77it/s]\u001B[A\n",
      " 96%|█████████▌| 673/704 [00:03<00:00, 155.08it/s]\u001B[A\n",
      "100%|██████████| 704/704 [00:03<00:00, 195.86it/s]\u001B[A\n"
     ]
    },
    {
     "data": {
      "text/plain": [
       "Generate report structure:   0%|          | 0/1 [00:00<?, ?it/s]"
      ],
      "application/vnd.jupyter.widget-view+json": {
       "version_major": 2,
       "version_minor": 0,
       "model_id": "fcdb18f8da3d4882a276867fb6ad085e"
      }
     },
     "metadata": {},
     "output_type": "display_data"
    },
    {
     "data": {
      "text/plain": [
       "Render HTML:   0%|          | 0/1 [00:00<?, ?it/s]"
      ],
      "application/vnd.jupyter.widget-view+json": {
       "version_major": 2,
       "version_minor": 0,
       "model_id": "611aca09283b433e95160a25f3c4725d"
      }
     },
     "metadata": {},
     "output_type": "display_data"
    },
    {
     "data": {
      "text/plain": [
       "Export report to file:   0%|          | 0/1 [00:00<?, ?it/s]"
      ],
      "application/vnd.jupyter.widget-view+json": {
       "version_major": 2,
       "version_minor": 0,
       "model_id": "5381c039d33e4a07be272b00c354caef"
      }
     },
     "metadata": {},
     "output_type": "display_data"
    }
   ],
   "execution_count": 54
  },
  {
   "metadata": {},
   "cell_type": "markdown",
   "source": "각 변수별 0의 비율을 조사하고 시리즈에 넣어둠",
   "id": "2ebab42b9c05fa44"
  },
  {
   "metadata": {
    "ExecuteTime": {
     "end_time": "2025-04-09T02:42:18.693164Z",
     "start_time": "2025-04-09T02:42:18.666066Z"
    }
   },
   "cell_type": "code",
   "source": [
    "zero_ratio = (tmp_X == 0).sum() / len(X)\n",
    "high_zero_columns = zero_ratio[zero_ratio >= 0.5]\n",
    "extreme_high_zero_columns = zero_ratio[zero_ratio >= 0.9]\n",
    "print(high_zero_columns.sort_values(ascending=False))\n",
    "print(len(high_zero_columns))\n",
    "print(len(extreme_high_zero_columns))"
   ],
   "id": "a8608aadde3c274e",
   "outputs": [
    {
     "name": "stdout",
     "output_type": "stream",
     "text": [
      "할부건수_유이자_14M_R12M    0.999833\n",
      "컨택건수_이용유도_당사앱_R6M    0.999833\n",
      "IB문의건수_CA_R6M        0.999833\n",
      "할부건수_14M_R12M        0.999833\n",
      "유효카드수_체크_가족          0.999833\n",
      "                       ...   \n",
      "RP유형건수_B0M           0.538000\n",
      "연체입금원금_B0M           0.526833\n",
      "RP건수_B0M             0.524667\n",
      "RP금액_B0M             0.521500\n",
      "이용후경과월_신판            0.516500\n",
      "Length: 470, dtype: float64\n",
      "470\n",
      "278\n"
     ]
    }
   ],
   "execution_count": 63
  },
  {
   "metadata": {},
   "cell_type": "markdown",
   "source": "상관계수가 0.9이상인 쌍들을 찾아내어 저장",
   "id": "3f249314848ad9d9"
  },
  {
   "metadata": {
    "ExecuteTime": {
     "end_time": "2025-04-09T02:59:47.156155Z",
     "start_time": "2025-04-09T02:59:40.978360Z"
    }
   },
   "cell_type": "code",
   "source": [
    "corr_matrix = tmp_X.corr(method=\"pearson\")\n",
    "\n",
    "\n",
    "# 자기 자신과의 상관은 제외 (1.0 값)\n",
    "# → 삼각 행렬 중 하나만 보자 (예: 상삼각)\n",
    "high_corr_pairs = []\n",
    "equal_corr_pairs = []\n",
    "\n",
    "# 상삼각 행렬만 탐색 (중복 방지)\n",
    "for i in range(len(corr_matrix.columns)):\n",
    "    for j in range(i+1, len(corr_matrix.columns)):\n",
    "        col1 = corr_matrix.columns[i]\n",
    "        col2 = corr_matrix.columns[j]\n",
    "        corr_value = corr_matrix.iloc[i, j]\n",
    "        if 0.9 <= abs(corr_value):\n",
    "            high_corr_pairs.append((col1, col2, corr_value))\n",
    "        if abs(corr_value) == 1.0:\n",
    "            equal_corr_pairs.append((col1, col2, corr_value))\n",
    "\n",
    "# 결과를 DataFrame으로 변환\n",
    "high_corr_df = pd.DataFrame(high_corr_pairs, columns=[\"Variable_1\", \"Variable_2\", \"Correlation\"])\n",
    "equal_corr_df = pd.DataFrame(equal_corr_pairs, columns=[\"Variable_1\", \"Variable_2\", \"Correlation\"])\n",
    "\n",
    "# 확인\n",
    "print(high_corr_df)\n"
   ],
   "id": "1be6ff1e406a91a7",
   "outputs": [
    {
     "name": "stdout",
     "output_type": "stream",
     "text": [
      "             Variable_1          Variable_2  Correlation\n",
      "0                  기준년월            연체일자_B0M     0.998933\n",
      "1           소지카드수_유효_신용            연체일자_B0M     0.954671\n",
      "2               입회일자_신용          입회경과개월수_신용    -0.999119\n",
      "3               회원여부_연체         이용횟수_연체_B0M     1.000000\n",
      "4            이용거절여부_카드론             카드론동의여부    -1.000000\n",
      "..                  ...                 ...          ...\n",
      "781  잔액_신판ca평균한도소진율_r6m  잔액_신판ca최대한도소진율_r3m     0.980885\n",
      "782  잔액_신판ca최대한도소진율_r6m  잔액_신판ca평균한도소진율_r3m     0.970337\n",
      "783  잔액_신판ca최대한도소진율_r6m  잔액_신판ca최대한도소진율_r3m     0.979701\n",
      "784  잔액_신판ca평균한도소진율_r3m  잔액_신판ca최대한도소진율_r3m     0.993383\n",
      "785         변동률_RV일시불평잔          변동률_RVCA평잔     0.934561\n",
      "\n",
      "[786 rows x 3 columns]\n"
     ]
    }
   ],
   "execution_count": 67
  },
  {
   "metadata": {
    "ExecuteTime": {
     "end_time": "2025-04-09T02:59:49.048256Z",
     "start_time": "2025-04-09T02:59:49.041739Z"
    }
   },
   "cell_type": "code",
   "source": "print(equal_corr_df)",
   "id": "cafea54ff1dbe363",
   "outputs": [
    {
     "name": "stdout",
     "output_type": "stream",
     "text": [
      "         Variable_1         Variable_2  Correlation\n",
      "0           회원여부_연체        이용횟수_연체_B0M          1.0\n",
      "1       유효카드수_체크_가족      이용가능카드수_체크_가족          1.0\n",
      "2         기본연회비_B0M     청구금액_기본연회비_B0M          1.0\n",
      "3         제휴연회비_B0M     청구금액_제휴연회비_B0M          1.0\n",
      "4     자발한도감액횟수_R12M      자발한도감액금액_R12M          1.0\n",
      "5        최종이용일자_카드론         최종카드론_대출일자          1.0\n",
      "6   이용금액_부분무이자_R12M   할부금액_부분_12M_R12M          1.0\n",
      "7    이용건수_부분무이자_R3M    이용개월수_부분무이자_R3M          1.0\n",
      "8     할부건수_14M_R12M  할부건수_유이자_14M_R12M          1.0\n",
      "9        승인거절건수_B0M    승인거절건수_한도초과_B0M          1.0\n",
      "10     대표청구서수령지구분코드            청구서수령방법          1.0\n",
      "11  증감율_이용건수_카드론_전월    증감율_이용금액_카드론_전월          1.0\n"
     ]
    }
   ],
   "execution_count": 68
  }
 ],
 "metadata": {
  "kernelspec": {
   "display_name": "Python 3",
   "language": "python",
   "name": "python3"
  },
  "language_info": {
   "codemirror_mode": {
    "name": "ipython",
    "version": 2
   },
   "file_extension": ".py",
   "mimetype": "text/x-python",
   "name": "python",
   "nbconvert_exporter": "python",
   "pygments_lexer": "ipython2",
   "version": "2.7.6"
  }
 },
 "nbformat": 4,
 "nbformat_minor": 5
}
